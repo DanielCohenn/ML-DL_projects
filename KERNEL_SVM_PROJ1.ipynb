{
 "cells": [
  {
   "cell_type": "markdown",
   "metadata": {},
   "source": [
    "## Breast cancer detection using kernel SVM "
   ]
  },
  {
   "cell_type": "markdown",
   "metadata": {},
   "source": [
    "\n",
    "### part 1: Loading data "
   ]
  },
  {
   "cell_type": "code",
   "execution_count": null,
   "metadata": {},
   "outputs": [],
   "source": [
    "import pandas as pd\n",
    "import numpy \n",
    "import matplotlib.pyplot as plt\n",
    "data_set = pd.read_csv(\"data.csv\")\n",
    "FEATURES = data_set.iloc[:, 2:]\n",
    "LABELS = data_set.iloc[:, 1]"
   ]
  },
  {
   "cell_type": "markdown",
   "metadata": {},
   "source": [
    "We seperated our data to 2 different DataFrames using pandas,<br> \n",
    "one only for our features (FEATURES) and the other for predictors (LABELS)."
   ]
  },
  {
   "cell_type": "markdown",
   "metadata": {},
   "source": [
    "### part 2: extracting some information about the dataset "
   ]
  },
  {
   "cell_type": "code",
   "execution_count": null,
   "metadata": {},
   "outputs": [],
   "source": [
    "data_set.info() # checking for non-Null data and getting some information about our dataset \n",
    "LABELS.hist(bins = 20, figsize=(10,5))\n",
    "FEATURES. hist(bins = 20, figsize=(20,15)) # checking the distribution of our features \n",
    "plt.show()"
   ]
  },
  {
   "cell_type": "markdown",
   "metadata": {},
   "source": [
    "### part 3: Preprocessing our data \n",
    "As we can see we have only 2 predictors malignant 'M' and benign 'B', <br>\n",
    "malignant tumors are cancerous while benign tumors aren't. <br>\n",
    "Let's convert 'M' to integer 1 and 'B' to integer 0 for binary classification."
   ]
  },
  {
   "cell_type": "code",
   "execution_count": null,
   "metadata": {
    "scrolled": true
   },
   "outputs": [],
   "source": [
    "from sklearn import preprocessing\n",
    "from sklearn.model_selection import train_test_split\n",
    "from sklearn.preprocessing import StandardScaler\n",
    "from sklearn.model_selection import train_test_split\n",
    "\n",
    "\n",
    "# there are no missing values on our dataset \n",
    "# converting test labels to numerical values using sklearn\n",
    "lb = preprocessing.LabelBinarizer()\n",
    "tran = numpy.array(LABELS)\n",
    "tran = lb.fit_transform(labels)\n",
    "tran_dataframe = pd.DataFrame({'Column1': labels[:, 0]})\n",
    "labels = numpy.array(tran_dataframe, dtype=int)\n",
    "features = numpy.array(FEATURES)\n",
    "\n",
    "# standaridization of the features \n",
    "scaler = StandardScaler().fit(features)\n",
    "features_scaled = scaler.transform(features)\n",
    "\n",
    "# train and test data\n",
    "X_train, X_test, y_train, y_test = train_test_split(features_scaled, labels, test_size=0.2, random_state=1)"
   ]
  },
  {
   "cell_type": "markdown",
   "metadata": {},
   "source": [
    "### part 4: Building our classifier and predicting "
   ]
  },
  {
   "cell_type": "code",
   "execution_count": null,
   "metadata": {},
   "outputs": [],
   "source": [
    "from sklearn.svm import SVC\n",
    "from sklearn.metrics import accuracy_score\n",
    "\n",
    "\n",
    "classifier = SVC(kernel=\"poly\", degree=3, coef0=1, C=i)\n",
    "classifier.fit(X_train, numpy.ravel(y_train))\n",
    "\n",
    "y_pred = classifier.predict(X_test)\n",
    "# checking the accuracy of the callisifier \n",
    "score = accuracy_score(y_test, y_pred)*100\n",
    "print(f\"The accuracy of the classifier is: {score}\")"
   ]
  }
 ],
 "metadata": {
  "kernelspec": {
   "display_name": "Python 3",
   "language": "python",
   "name": "python3"
  },
  "language_info": {
   "codemirror_mode": {
    "name": "ipython",
    "version": 3
   },
   "file_extension": ".py",
   "mimetype": "text/x-python",
   "name": "python",
   "nbconvert_exporter": "python",
   "pygments_lexer": "ipython3",
   "version": "3.8.5"
  }
 },
 "nbformat": 4,
 "nbformat_minor": 4
}
